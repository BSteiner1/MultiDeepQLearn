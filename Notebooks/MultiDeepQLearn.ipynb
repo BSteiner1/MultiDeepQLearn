{
  "nbformat": 4,
  "nbformat_minor": 0,
  "metadata": {
    "colab": {
      "provenance": [],
      "gpuType": "T4",
      "authorship_tag": "ABX9TyNgORV0esVKRLH/j6YiHOCT",
      "include_colab_link": true
    },
    "kernelspec": {
      "name": "python3",
      "display_name": "Python 3"
    },
    "language_info": {
      "name": "python"
    },
    "accelerator": "GPU"
  },
  "cells": [
    {
      "cell_type": "markdown",
      "metadata": {
        "id": "view-in-github",
        "colab_type": "text"
      },
      "source": [
        "<a href=\"https://colab.research.google.com/github/BSteiner1/MultiDeepQLearn/blob/main/Notebooks/MultiDeepQLearn.ipynb\" target=\"_parent\"><img src=\"https://colab.research.google.com/assets/colab-badge.svg\" alt=\"Open In Colab\"/></a>"
      ]
    },
    {
      "cell_type": "markdown",
      "source": [
        "### Import libraries"
      ],
      "metadata": {
        "id": "MNNeD_m6ATcw"
      }
    },
    {
      "cell_type": "code",
      "source": [
        "import torch\n",
        "import torch.nn as nn\n",
        "import torch.optim as optim\n",
        "import numpy as np\n",
        "import time\n",
        "import random\n",
        "import matplotlib.pyplot as plt"
      ],
      "metadata": {
        "id": "6-xD5Zm4M4v5"
      },
      "execution_count": 1,
      "outputs": []
    },
    {
      "cell_type": "markdown",
      "source": [
        "### Define some of the variables as given in the paper"
      ],
      "metadata": {
        "id": "Z8izVpQIAW2Y"
      }
    },
    {
      "cell_type": "code",
      "source": [
        "# Define the demand function parameters\n",
        "a1 = 2\n",
        "a2 = 2\n",
        "# Outside good\n",
        "a0 = 0"
      ],
      "metadata": {
        "id": "QGbFPgYvM91i"
      },
      "execution_count": 50,
      "outputs": []
    },
    {
      "cell_type": "code",
      "source": [
        "# Marginal cost\n",
        "c = 1\n",
        "# Price sensitivity\n",
        "mu = 0.1\n",
        "# Epsilon-Greedy Strategy\n",
        "epsilon = 0.1"
      ],
      "metadata": {
        "id": "e-74GsbPSUTZ"
      },
      "execution_count": 76,
      "outputs": []
    },
    {
      "cell_type": "markdown",
      "source": [
        "### Calculate demand given current prices"
      ],
      "metadata": {
        "id": "M_3vY4VYAbI_"
      }
    },
    {
      "cell_type": "code",
      "source": [
        "# Function to calculate the logit demand for a given product\n",
        "def logit_demand(price, other_price):\n",
        "    q = np.exp((2 - price)/mu) / (np.exp((2 - other_price)/mu)) # + np.exp(0/mu))\n",
        "    return q"
      ],
      "metadata": {
        "id": "AzTF_FmkNSDq"
      },
      "execution_count": 54,
      "outputs": []
    },
    {
      "cell_type": "markdown",
      "source": [
        "### Epsilon-Greedy Action Selection"
      ],
      "metadata": {
        "id": "UZ-IcIi_AgWb"
      }
    },
    {
      "cell_type": "code",
      "source": [
        "def epsilon_greedy_action_selection(net, state, epsilon):\n",
        "    if np.random.rand() < epsilon:\n",
        "        # Exploration\n",
        "        return random.choice([i for i in range(num_prices)])\n",
        "    else:\n",
        "        # Exploitation\n",
        "        with torch.no_grad():\n",
        "            q_values = net(state)\n",
        "            return q_values.argmax().item()"
      ],
      "metadata": {
        "id": "gYUqejHFbBqv"
      },
      "execution_count": 55,
      "outputs": []
    },
    {
      "cell_type": "markdown",
      "source": [
        "### Determine profits from current prices"
      ],
      "metadata": {
        "id": "DcVi4KnOAjNE"
      }
    },
    {
      "cell_type": "code",
      "source": [
        "def simulate_environment(prices):\n",
        "    price1, price2 = prices[0], prices[1]\n",
        "\n",
        "    # Calculate the demand for each business\n",
        "    demand1 = logit_demand(price1, price2)\n",
        "    demand2 = logit_demand(price2, price1)\n",
        "\n",
        "    # Calculate the revenue and profit for each product\n",
        "    revenue1 = price1 * demand1\n",
        "    revenue2 = price2 * demand2\n",
        "\n",
        "    # Assuming the agents have 0 marginal cost\n",
        "    profit1 = revenue1 - demand1 * c\n",
        "    profit2 = revenue2 - demand2 * c\n",
        "\n",
        "    return [profit1, profit2]"
      ],
      "metadata": {
        "id": "pZApHq6BPPiw"
      },
      "execution_count": 56,
      "outputs": []
    },
    {
      "cell_type": "markdown",
      "source": [
        "### Discretise the action space"
      ],
      "metadata": {
        "id": "JBjxC0daArM2"
      }
    },
    {
      "cell_type": "code",
      "source": [
        "# Number of prices to choose from\n",
        "num_prices = 40\n",
        "price_options = [round(0.05*i, 2) for i in range(1, num_prices+1)]"
      ],
      "metadata": {
        "id": "kUia5rtV_EP_"
      },
      "execution_count": 61,
      "outputs": []
    },
    {
      "cell_type": "markdown",
      "source": [
        "### Define parameters in the learning process"
      ],
      "metadata": {
        "id": "35ewLM30Avut"
      }
    },
    {
      "cell_type": "code",
      "source": [
        "num_episodes = 2500\n",
        "learning_rate = 0.001\n",
        "discount_factor = 0.99\n",
        "epsilon = 0.1\n",
        "max_steps_per_episode = 20"
      ],
      "metadata": {
        "id": "sBuDWcNnPPsR"
      },
      "execution_count": 104,
      "outputs": []
    },
    {
      "cell_type": "markdown",
      "source": [
        "### Dimensions of the network"
      ],
      "metadata": {
        "id": "gecuQImtA0hl"
      }
    },
    {
      "cell_type": "code",
      "source": [
        "state_size = 4  # Size of state (current + memory of 1)\n",
        "hidden_size = 256 # Size of the hidden layer\n",
        "action_size = num_prices  # Number of price options\n",
        "\n",
        "net_dimensions = [state_size, hidden_size, action_size]"
      ],
      "metadata": {
        "id": "gwqnMa6N6blK"
      },
      "execution_count": 105,
      "outputs": []
    },
    {
      "cell_type": "markdown",
      "source": [
        "### Training Loop"
      ],
      "metadata": {
        "id": "7Uu9wYffA3qH"
      }
    },
    {
      "cell_type": "code",
      "source": [
        "def train_q_learning(num_episodes, learning_rate, discount_factor, epsilon, max_steps_per_episode, net_dimensions):\n",
        "\n",
        "    # Assign network dimensions\n",
        "    state_size, hidden_size, action_size = net_dimensions\n",
        "\n",
        "    #Create the Q-value models for each agent\n",
        "    q_value_model_agent1 = nn.Sequential(\n",
        "        nn.Linear(state_size, hidden_size),\n",
        "        nn.ReLU(),\n",
        "        nn.Linear(hidden_size, action_size)\n",
        "    )\n",
        "    q_value_model_agent2 = nn.Sequential(\n",
        "        nn.Linear(state_size, hidden_size),\n",
        "        nn.ReLU(),\n",
        "        nn.Linear(hidden_size, action_size)\n",
        "    )\n",
        "\n",
        "    optimizer_agent1 = optim.Adam(q_value_model_agent1.parameters(), lr=learning_rate)\n",
        "    optimizer_agent2 = optim.Adam(q_value_model_agent2.parameters(), lr=learning_rate)\n",
        "    criterion = nn.MSELoss()\n",
        "\n",
        "    profit1 = []\n",
        "\n",
        "    start_time = time.time()\n",
        "\n",
        "    for episode in range(num_episodes):\n",
        "      if episode%250 == 0:\n",
        "        print(\"Episode: \", episode)\n",
        "\n",
        "      # Initialize with random prices for both businesses\n",
        "      price_business1 = random.choice(price_options)\n",
        "      price_business2 = random.choice(price_options)\n",
        "\n",
        "      state = torch.tensor([price_business1, price_business2, 0, 0], dtype=torch.float32)\n",
        "\n",
        "      episode_actions = []\n",
        "      episode_profit = 0\n",
        "      step = 0\n",
        "      while step < max_steps_per_episode:\n",
        "        # Agent 1 chooses action based on the current state and epsilon-greedy strategy\n",
        "        action_agent1 = epsilon_greedy_action_selection(q_value_model_agent1, state, epsilon)\n",
        "        episode_actions.append(action_agent1)\n",
        "\n",
        "        # Agent 2 chooses action based on the current state and epsilon-greedy strategy\n",
        "        action_agent2 = epsilon_greedy_action_selection(q_value_model_agent2, state, epsilon)\n",
        "\n",
        "        # Combine the chosen actions to form the joint action (prices for both agents)\n",
        "        joint_action = [price_options[action_agent1], price_options[action_agent2]]\n",
        "\n",
        "        # Simulate the environment based on the joint action and calculate profit\n",
        "        rewards = simulate_environment(joint_action)\n",
        "        episode_profit += rewards[0]\n",
        "\n",
        "        # Create the next state tensor from the new prices\n",
        "        last_state = state.tolist()[:2]\n",
        "        next_state = torch.tensor(joint_action + last_state, dtype=torch.float32)\n",
        "\n",
        "        # Calculate the Q-value target for the current state-action pair\n",
        "        with torch.no_grad():\n",
        "            q_value_target_agent1 = torch.tensor(rewards[0], dtype=torch.float32) + discount_factor * torch.max(q_value_model_agent1(next_state))\n",
        "            q_value_target_agent2 = torch.tensor(rewards[1], dtype=torch.float32) + discount_factor * torch.max(q_value_model_agent2(next_state))\n",
        "\n",
        "        # Calculate the Q-value prediction for the current state-action pair\n",
        "        q_value_prediction_agent1 = q_value_model_agent1(state)[action_agent1]\n",
        "        q_value_prediction_agent2 = q_value_model_agent2(state)[action_agent2]\n",
        "\n",
        "        # Compute the loss and perform backpropagation for each agent\n",
        "        optimizer_agent1.zero_grad()\n",
        "        loss_agent1 = criterion(q_value_prediction_agent1, q_value_target_agent1)\n",
        "        loss_agent1.backward()\n",
        "        optimizer_agent1.step()\n",
        "\n",
        "        optimizer_agent2.zero_grad()\n",
        "        loss_agent2 = criterion(q_value_prediction_agent2, q_value_target_agent2)\n",
        "        loss_agent2.backward()\n",
        "        optimizer_agent2.step()\n",
        "\n",
        "        # Update the state for the next iteration\n",
        "        state = next_state\n",
        "        step += 1\n",
        "\n",
        "      profit1.append(episode_profit)\n",
        "\n",
        "    end_time = time.time()\n",
        "    elapsed_time = end_time - start_time\n",
        "    time_per_episode = elapsed_time/num_episodes\n",
        "    print(\"Total Number of Episodes:\", num_episodes)\n",
        "    print(f\"Elapsed Time: {elapsed_time:.2f} seconds\")\n",
        "    print(f\"Average Time per Episode: {time_per_episode:.3f} seconds\")\n",
        "\n",
        "    return q_value_model_agent1, q_value_model_agent2, profit1"
      ],
      "metadata": {
        "id": "jAwSyKibek0n"
      },
      "execution_count": 106,
      "outputs": []
    },
    {
      "cell_type": "code",
      "source": [
        "trained_model_agent1, trained_model_agent2, profit1 = train_q_learning(num_episodes, learning_rate, discount_factor, epsilon, max_steps_per_episode, net_dimensions)"
      ],
      "metadata": {
        "colab": {
          "base_uri": "https://localhost:8080/"
        },
        "id": "SERaZyIfesdc",
        "outputId": "19e01791-0bce-458a-8cea-8050ae4d7db1"
      },
      "execution_count": 107,
      "outputs": [
        {
          "output_type": "stream",
          "name": "stdout",
          "text": [
            "Episode:  0\n",
            "Episode:  250\n",
            "Episode:  500\n",
            "Episode:  750\n",
            "Episode:  1000\n",
            "Episode:  1250\n",
            "Episode:  1500\n",
            "Episode:  1750\n",
            "Episode:  2000\n",
            "Episode:  2250\n",
            "Total Number of Episodes: 2500\n",
            "Elapsed Time: 99.92 seconds\n",
            "Average Time per Episode: 0.040 seconds\n"
          ]
        }
      ]
    },
    {
      "cell_type": "markdown",
      "source": [
        "### Visualise the learning process"
      ],
      "metadata": {
        "id": "J2UVmKqtA6e8"
      }
    },
    {
      "cell_type": "code",
      "source": [
        "episodes = range(len(profit1))  # Assuming both lists have the same length (number of episodes)\n",
        "\n",
        "plt.plot(episodes, profit1, label='Agent 1')\n",
        "\n",
        "plt.xlabel('Episode')\n",
        "plt.ylabel('Profit')\n",
        "plt.title('Equilibrium Prices')\n",
        "plt.legend()\n",
        "plt.grid(True)\n",
        "plt.show()"
      ],
      "metadata": {
        "colab": {
          "base_uri": "https://localhost:8080/",
          "height": 472
        },
        "id": "5dK-0M7mODlh",
        "outputId": "49a1a8ab-abb7-44dc-9249-008dae89eca2"
      },
      "execution_count": 108,
      "outputs": [
        {
          "output_type": "display_data",
          "data": {
            "text/plain": [
              "<Figure size 640x480 with 1 Axes>"
            ],
            "image/png": "[encoded data removed]"
          },
          "metadata": {}
        }
      ]
    },
    {
      "cell_type": "markdown",
      "source": [
        "### Play the agents against each other in a one-off repeated game"
      ],
      "metadata": {
        "id": "ldAePfUHA9d5"
      }
    },
    {
      "cell_type": "code",
      "source": [
        "def play_agents(agent1_model, agent2_model, max_iterations):\n",
        "\n",
        "    prices1, prices2 = [], []\n",
        "    profit1, profit2 = 0, 0\n",
        "\n",
        "    # Start with random prices for both businesses\n",
        "    price_agent1 = random.choice(price_options)\n",
        "    price_agent2 = random.choice(price_options)\n",
        "\n",
        "    start_action = [price_agent1, price_agent2]\n",
        "\n",
        "    prices1.append(price_agent1)\n",
        "    prices2.append(price_agent2)\n",
        "\n",
        "    p1 = simulate_environment(start_action)[0]\n",
        "    p2 = simulate_environment(start_action)[1]\n",
        "\n",
        "    profit1 += p1\n",
        "    profit2 += p2\n",
        "\n",
        "    state = torch.tensor([price_agent1, price_agent2, 0, 0], dtype=torch.float32)\n",
        "\n",
        "    for _ in range(max_iterations):\n",
        "        # Get the Q-values for both agents from their models\n",
        "        q_values_agent1 = agent1_model(state)\n",
        "        q_values_agent2 = agent2_model(state)\n",
        "\n",
        "        # Choose action based on the learned policy\n",
        "        action_agent1 = torch.argmax(q_values_agent1).item()\n",
        "        action_agent2 = torch.argmax(q_values_agent2).item()\n",
        "\n",
        "        # Get the price from the action\n",
        "        price_agent1 = price_options[action_agent1]\n",
        "        price_agent2 = price_options[action_agent2]\n",
        "\n",
        "        joint_action = [price_agent1, price_agent2]\n",
        "\n",
        "        p1 = simulate_environment(joint_action)[0]\n",
        "        p2 = simulate_environment(joint_action)[1]\n",
        "\n",
        "        # Update the state\n",
        "        last_state = state.tolist()[:2]\n",
        "        state = torch.tensor(joint_action + last_state, dtype=torch.float32)\n",
        "\n",
        "        # Keep track of history\n",
        "        prices1.append(price_agent1)\n",
        "        prices2.append(price_agent2)\n",
        "        profit1 += p1\n",
        "        profit2 += p2\n",
        "\n",
        "    return prices1, prices2, profit1, profit2"
      ],
      "metadata": {
        "id": "AAOvFiuNrXgo"
      },
      "execution_count": 109,
      "outputs": []
    },
    {
      "cell_type": "code",
      "source": [
        "max_iterations = 19 # Random initialisation gives 20 repetitions"
      ],
      "metadata": {
        "id": "rWvLnoavuF84"
      },
      "execution_count": 110,
      "outputs": []
    },
    {
      "cell_type": "markdown",
      "source": [
        "### Outcome of the game"
      ],
      "metadata": {
        "id": "smGx3tlWBGMK"
      }
    },
    {
      "cell_type": "code",
      "source": [
        "# Play the agents against each other and observe the equilibrium prices\n",
        "agent1_prices, agent2_prices, agent1_profit, agent2_profit = play_agents(trained_model_agent1, trained_model_agent2, max_iterations)\n",
        "\n",
        "print(\"Agent 1 Prices: \", agent1_prices)\n",
        "print(\"Agent 2 Prices: \", agent2_prices)\n",
        "print(\"Agent 1 Profit: \", np.round(agent1_profit, 3))\n",
        "print(\"Agent 2 Profit: \", np.round(agent2_profit, 3))"
      ],
      "metadata": {
        "colab": {
          "base_uri": "https://localhost:8080/"
        },
        "id": "_G747HKerXlI",
        "outputId": "00fc6db7-cbf4-49eb-c883-fca1e365c61d"
      },
      "execution_count": 121,
      "outputs": [
        {
          "output_type": "stream",
          "name": "stdout",
          "text": [
            "Agent 1 Prices:  [2.0, 1.2, 1.2, 1.2, 1.2, 1.2, 1.2, 1.2, 1.2, 1.2, 1.2, 1.2, 1.2, 1.2, 1.2, 1.2, 1.2, 1.2, 1.2, 1.2]\n",
            "Agent 2 Prices:  [1.65, 1.45, 1.45, 1.45, 1.45, 1.45, 1.45, 1.45, 1.45, 1.45, 1.45, 1.45, 1.45, 1.45, 1.45, 1.45, 1.45, 1.45, 1.45, 1.45]\n",
            "Agent 1 Profit:  46.324\n",
            "Agent 2 Profit:  22.227\n"
          ]
        }
      ]
    },
    {
      "cell_type": "markdown",
      "source": [
        "### A function to determine the next action given any combination of current and previous actions"
      ],
      "metadata": {
        "id": "cd5K0QIDAGrz"
      }
    },
    {
      "cell_type": "code",
      "source": [
        "def inspect_agent(price1, price2, last_price1, last_price2):\n",
        "  state_agent1 = torch.tensor([price1, price2, last_price1, last_price2], dtype=torch.float32)\n",
        "\n",
        "  # Get the Q-values for Agent 1 in state\n",
        "  q_values_agent1 = trained_model_agent1(state_agent1)\n",
        "\n",
        "  # Convert the Q-values tensor to a NumPy array for easier inspection\n",
        "  q_values_agent1 = q_values_agent1.detach().numpy()\n",
        "\n",
        "  print(\"Q-values for Agent 1 in state \", (price1, price2, last_price1, last_price2), \":\\n\\n\", q_values_agent1)\n",
        "\n",
        "  # Select action with highest Q-value\n",
        "  action = q_values_agent1.argmax()\n",
        "  print(\"\\nNext Action: \", price_options[action])"
      ],
      "metadata": {
        "id": "Ok_ArjzwmyQm"
      },
      "execution_count": 122,
      "outputs": []
    },
    {
      "cell_type": "code",
      "source": [
        "inspect_agent(1.1, 1.2, 1.1, 1.2)"
      ],
      "metadata": {
        "colab": {
          "base_uri": "https://localhost:8080/"
        },
        "id": "HW-Jql6PnCvL",
        "outputId": "04b2906d-fd19-406b-a41e-3a2cb8c2af16"
      },
      "execution_count": 123,
      "outputs": [
        {
          "output_type": "stream",
          "name": "stdout",
          "text": [
            "Q-values for Agent 1 in state  (1.1, 1.2, 1.1, 1.2) :\n",
            "\n",
            " [-8210.736  -5335.275  -6439.2124 -5146.463  -5934.9087 -5227.53\n",
            " -6530.762  -5561.7285 -2407.7163 -1104.8053  1430.9948  4869.8843\n",
            "  5825.5664  5967.522   7596.478   7271.6895  7536.122   7195.0073\n",
            "  9376.335   8074.2646  9162.353   8011.8296  6764.6074 16706.916\n",
            "  8093.268   8152.5283  7991.029   8502.474   8141.263   9247.202\n",
            "  8212.65    8794.227   9153.608   7716.302   7563.312   8276.152\n",
            "  7658.494   9072.212   9326.324   8507.847 ]\n",
            "\n",
            "Next Action:  1.2\n"
          ]
        }
      ]
    }
  ]
}