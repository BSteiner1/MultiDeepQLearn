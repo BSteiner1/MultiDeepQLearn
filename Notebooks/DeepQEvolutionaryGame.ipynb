{
  "nbformat": 4,
  "nbformat_minor": 0,
  "metadata": {
    "colab": {
      "provenance": [],
      "gpuType": "T4",
      "authorship_tag": "ABX9TyNrbG0+jfPWYOJFT9VBjYW0",
      "include_colab_link": true
    },
    "kernelspec": {
      "name": "python3",
      "display_name": "Python 3"
    },
    "language_info": {
      "name": "python"
    },
    "accelerator": "GPU"
  },
  "cells": [
    {
      "cell_type": "markdown",
      "metadata": {
        "id": "view-in-github",
        "colab_type": "text"
      },
      "source": [
        "<a href=\"https://colab.research.google.com/github/BSteiner1/MultiDeepQLearn/blob/main/Notebooks/DeepQEvolutionaryGame.ipynb\" target=\"_parent\"><img src=\"https://colab.research.google.com/assets/colab-badge.svg\" alt=\"Open In Colab\"/></a>"
      ]
    },
    {
      "cell_type": "markdown",
      "source": [
        "### Import libraries"
      ],
      "metadata": {
        "id": "MNNeD_m6ATcw"
      }
    },
    {
      "cell_type": "code",
      "source": [
        "import torch\n",
        "import torch.nn as nn\n",
        "import torch.optim as optim\n",
        "import numpy as np\n",
        "import time\n",
        "import random\n",
        "import matplotlib.pyplot as plt"
      ],
      "metadata": {
        "id": "6-xD5Zm4M4v5"
      },
      "execution_count": 1,
      "outputs": []
    },
    {
      "cell_type": "markdown",
      "source": [
        "### Define some of the variables as given in the paper"
      ],
      "metadata": {
        "id": "Z8izVpQIAW2Y"
      }
    },
    {
      "cell_type": "code",
      "source": [
        "# Marginal costs\n",
        "c1, c2 = 57, 71\n",
        "# Epsilon-Greedy Strategy\n",
        "epsilon = 0.1"
      ],
      "metadata": {
        "id": "e-74GsbPSUTZ"
      },
      "execution_count": 2,
      "outputs": []
    },
    {
      "cell_type": "markdown",
      "source": [
        "### Calculate demand given current prices"
      ],
      "metadata": {
        "id": "M_3vY4VYAbI_"
      }
    },
    {
      "cell_type": "code",
      "source": [
        "# Function to calculate the logit demand for a given product\n",
        "def evolutionary_demand(state):\n",
        "\n",
        "  price1, price2, demand1, demand2 = state\n",
        "\n",
        "  # Update Rule\n",
        "  demand1 = demand1 + 0.5*(price2 - price1)\n",
        "  demand2 = demand2 + 0.5*(price1 - price2)\n",
        "\n",
        "  return demand1, demand2"
      ],
      "metadata": {
        "id": "AzTF_FmkNSDq"
      },
      "execution_count": 3,
      "outputs": []
    },
    {
      "cell_type": "markdown",
      "source": [
        "### Epsilon-Greedy Action Selection"
      ],
      "metadata": {
        "id": "UZ-IcIi_AgWb"
      }
    },
    {
      "cell_type": "code",
      "source": [
        "def epsilon_greedy_action_selection(net, state, epsilon, t):\n",
        "    #if np.random.rand() < epsilon:\n",
        "    if np.random.rand() < np.exp(-0.0005*t):\n",
        "        # Exploration\n",
        "        return random.choice([i for i in range(num_prices)])\n",
        "    else:\n",
        "        # Exploitation\n",
        "        with torch.no_grad():\n",
        "            q_values = net(state)\n",
        "            return q_values.argmax().item()"
      ],
      "metadata": {
        "id": "gYUqejHFbBqv"
      },
      "execution_count": 4,
      "outputs": []
    },
    {
      "cell_type": "markdown",
      "source": [
        "### Determine profits from current prices"
      ],
      "metadata": {
        "id": "DcVi4KnOAjNE"
      }
    },
    {
      "cell_type": "code",
      "source": [
        "def simulate_environment(prices_and_demands):\n",
        "    price1, price2, demand1, demand2 = prices_and_demands\n",
        "\n",
        "    # Calculate the revenue and profit for each product\n",
        "    revenue1 = price1 * demand1\n",
        "    revenue2 = price2 * demand2\n",
        "\n",
        "    # Calculate profits\n",
        "    profit1 = revenue1 - demand1 * 57\n",
        "    profit2 = revenue2 - demand2 * 71\n",
        "\n",
        "    return [profit1, profit2]"
      ],
      "metadata": {
        "id": "pZApHq6BPPiw"
      },
      "execution_count": 5,
      "outputs": []
    },
    {
      "cell_type": "markdown",
      "source": [
        "### Discretise the action space"
      ],
      "metadata": {
        "id": "JBjxC0daArM2"
      }
    },
    {
      "cell_type": "code",
      "source": [
        "# Number of prices to choose from\n",
        "num_prices = 10\n",
        "price_options = [(50 + 5*i) for i in range(1, num_prices+1)]"
      ],
      "metadata": {
        "id": "kUia5rtV_EP_"
      },
      "execution_count": 6,
      "outputs": []
    },
    {
      "cell_type": "markdown",
      "source": [
        "### Define parameters in the learning process"
      ],
      "metadata": {
        "id": "35ewLM30Avut"
      }
    },
    {
      "cell_type": "code",
      "source": [
        "num_episodes = 20000\n",
        "learning_rate = 0.001\n",
        "discount_factor = 0.99\n",
        "epsilon = 0.1\n",
        "max_steps_per_episode = 25"
      ],
      "metadata": {
        "id": "sBuDWcNnPPsR"
      },
      "execution_count": 7,
      "outputs": []
    },
    {
      "cell_type": "markdown",
      "source": [
        "### Dimensions of the network"
      ],
      "metadata": {
        "id": "gecuQImtA0hl"
      }
    },
    {
      "cell_type": "code",
      "source": [
        "state_size = 4  # Size of state (current + memory of 1)\n",
        "hidden_size = 128 # Size of the hidden layer\n",
        "action_size = num_prices  # Number of price options\n",
        "\n",
        "net_dimensions = [state_size, hidden_size, action_size]"
      ],
      "metadata": {
        "id": "gwqnMa6N6blK"
      },
      "execution_count": 8,
      "outputs": []
    },
    {
      "cell_type": "markdown",
      "source": [
        "### Training Loop"
      ],
      "metadata": {
        "id": "7Uu9wYffA3qH"
      }
    },
    {
      "cell_type": "code",
      "source": [
        "def train_q_learning(num_episodes, learning_rate, discount_factor, epsilon, max_steps_per_episode, net_dimensions):\n",
        "\n",
        "    # Assign network dimensions\n",
        "    state_size, hidden_size, action_size = net_dimensions\n",
        "\n",
        "    #Create the Q-value models for each agent\n",
        "    q_value_model_agent1 = nn.Sequential(\n",
        "        nn.Linear(state_size, hidden_size),\n",
        "        nn.ReLU(),\n",
        "        nn.Linear(hidden_size, action_size)\n",
        "    )\n",
        "    q_value_model_agent2 = nn.Sequential(\n",
        "        nn.Linear(state_size, hidden_size),\n",
        "        nn.ReLU(),\n",
        "        nn.Linear(hidden_size, action_size)\n",
        "    )\n",
        "\n",
        "    optimizer_agent1 = optim.Adam(q_value_model_agent1.parameters(), lr=learning_rate)\n",
        "    optimizer_agent2 = optim.Adam(q_value_model_agent2.parameters(), lr=learning_rate)\n",
        "    criterion = nn.MSELoss()\n",
        "\n",
        "    profit1 = []\n",
        "\n",
        "    start_time = time.time()\n",
        "\n",
        "    for episode in range(num_episodes):\n",
        "      if episode%250 == 0:\n",
        "        print(\"Episode: \", episode)\n",
        "\n",
        "      # Initialise with random prices for both businesses\n",
        "      demand1, demand2 = 200, 200\n",
        "\n",
        "      # Initialise the price at marginal cost\n",
        "      price1, price2 = 57, 71\n",
        "\n",
        "      # Initialise the state\n",
        "      state = torch.tensor([price1, price2, demand1, demand2], dtype=torch.float32)\n",
        "\n",
        "      episode_actions = []\n",
        "      episode_profit = 0\n",
        "      step = 0\n",
        "      while step < max_steps_per_episode:\n",
        "\n",
        "        #print(\"\\nSTEP: \", step)\n",
        "        #print(\"Price 1: \", price1)\n",
        "        # print(\"Price 2: \", price2)\n",
        "        # print(\"Demand 1: \", demand1)\n",
        "        # print(\"Demand 2: \", demand2)\n",
        "\n",
        "        # Agent 1 chooses action based on the current state and epsilon-greedy strategy\n",
        "        action_agent1 = epsilon_greedy_action_selection(q_value_model_agent1, state, epsilon, episode)\n",
        "        episode_actions.append(action_agent1)\n",
        "\n",
        "        # Agent 2 chooses action based on the current state and epsilon-greedy strategy\n",
        "        action_agent2 = epsilon_greedy_action_selection(q_value_model_agent2, state, epsilon, episode)\n",
        "\n",
        "        # Combine the chosen actions to form the joint action (prices for both agents)\n",
        "        price1, price2 = price_options[action_agent1], price_options[action_agent2]\n",
        "        prices = [price1, price2]\n",
        "\n",
        "        demands = [demand1, demand2]\n",
        "\n",
        "        # Simulate the environment based on the joint action and calculate profit\n",
        "        rewards = simulate_environment(prices + demands)\n",
        "        episode_profit += rewards[0]\n",
        "\n",
        "        # Calculate the Q-value target for the current state-action pair\n",
        "        with torch.no_grad():\n",
        "            q_value_target_agent1 = rewards[0] + discount_factor * torch.max(q_value_model_agent1(state)).clone().detach()\n",
        "            q_value_target_agent2 = rewards[1] + discount_factor * torch.max(q_value_model_agent2(state)).clone().detach()\n",
        "\n",
        "        # Calculate the Q-value prediction for the current state-action pair\n",
        "        q_value_prediction_agent1 = q_value_model_agent1(state)[action_agent1]\n",
        "        q_value_prediction_agent2 = q_value_model_agent2(state)[action_agent2]\n",
        "\n",
        "        # Compute the loss and perform backpropagation for each agent\n",
        "        optimizer_agent1.zero_grad()\n",
        "        loss_agent1 = criterion(q_value_prediction_agent1, q_value_target_agent1)\n",
        "        loss_agent1.backward()\n",
        "        optimizer_agent1.step()\n",
        "\n",
        "        optimizer_agent2.zero_grad()\n",
        "        loss_agent2 = criterion(q_value_prediction_agent2, q_value_target_agent2)\n",
        "        loss_agent2.backward()\n",
        "        optimizer_agent2.step()\n",
        "\n",
        "        # Update demands\n",
        "        demand1, demand2 = evolutionary_demand(state)\n",
        "\n",
        "        # Update the state for the next iteration\n",
        "        state = torch.tensor([prices[0], prices[1], demand1, demand2], dtype=torch.float32)\n",
        "        step += 1\n",
        "\n",
        "      profit1.append(episode_profit)\n",
        "\n",
        "    end_time = time.time()\n",
        "    elapsed_time = end_time - start_time\n",
        "    time_per_episode = elapsed_time/num_episodes\n",
        "    print(\"Total Number of Episodes:\", num_episodes)\n",
        "    print(f\"Elapsed Time: {elapsed_time:.2f} seconds\")\n",
        "    print(f\"Average Time per Episode: {time_per_episode:.3f} seconds\")\n",
        "\n",
        "    return q_value_model_agent1, q_value_model_agent2, profit1"
      ],
      "metadata": {
        "id": "jAwSyKibek0n"
      },
      "execution_count": 9,
      "outputs": []
    },
    {
      "cell_type": "code",
      "source": [
        "trained_model_agent1, trained_model_agent2, profit1 = train_q_learning(num_episodes, learning_rate, discount_factor, epsilon, max_steps_per_episode, net_dimensions)"
      ],
      "metadata": {
        "colab": {
          "base_uri": "https://localhost:8080/"
        },
        "id": "SERaZyIfesdc",
        "outputId": "bc7e49b7-ba40-4345-d05f-56302c03b9fa"
      },
      "execution_count": 10,
      "outputs": [
        {
          "output_type": "stream",
          "name": "stdout",
          "text": [
            "Episode:  0\n",
            "Episode:  250\n",
            "Episode:  500\n",
            "Episode:  750\n",
            "Episode:  1000\n",
            "Episode:  1250\n",
            "Episode:  1500\n",
            "Episode:  1750\n",
            "Episode:  2000\n",
            "Episode:  2250\n",
            "Episode:  2500\n",
            "Episode:  2750\n",
            "Episode:  3000\n",
            "Episode:  3250\n",
            "Episode:  3500\n",
            "Episode:  3750\n",
            "Episode:  4000\n",
            "Episode:  4250\n",
            "Episode:  4500\n",
            "Episode:  4750\n",
            "Episode:  5000\n",
            "Episode:  5250\n",
            "Episode:  5500\n",
            "Episode:  5750\n",
            "Episode:  6000\n",
            "Episode:  6250\n",
            "Episode:  6500\n",
            "Episode:  6750\n",
            "Episode:  7000\n",
            "Episode:  7250\n",
            "Episode:  7500\n",
            "Episode:  7750\n",
            "Episode:  8000\n",
            "Episode:  8250\n",
            "Episode:  8500\n",
            "Episode:  8750\n",
            "Episode:  9000\n",
            "Episode:  9250\n",
            "Episode:  9500\n",
            "Episode:  9750\n",
            "Episode:  10000\n",
            "Episode:  10250\n",
            "Episode:  10500\n",
            "Episode:  10750\n",
            "Episode:  11000\n",
            "Episode:  11250\n",
            "Episode:  11500\n",
            "Episode:  11750\n",
            "Episode:  12000\n",
            "Episode:  12250\n",
            "Episode:  12500\n",
            "Episode:  12750\n",
            "Episode:  13000\n",
            "Episode:  13250\n",
            "Episode:  13500\n",
            "Episode:  13750\n",
            "Episode:  14000\n",
            "Episode:  14250\n",
            "Episode:  14500\n",
            "Episode:  14750\n",
            "Episode:  15000\n",
            "Episode:  15250\n",
            "Episode:  15500\n",
            "Episode:  15750\n",
            "Episode:  16000\n",
            "Episode:  16250\n",
            "Episode:  16500\n",
            "Episode:  16750\n",
            "Episode:  17000\n",
            "Episode:  17250\n",
            "Episode:  17500\n",
            "Episode:  17750\n",
            "Episode:  18000\n",
            "Episode:  18250\n",
            "Episode:  18500\n",
            "Episode:  18750\n",
            "Episode:  19000\n",
            "Episode:  19250\n",
            "Episode:  19500\n",
            "Episode:  19750\n",
            "Total Number of Episodes: 20000\n",
            "Elapsed Time: 1114.64 seconds\n",
            "Average Time per Episode: 0.056 seconds\n"
          ]
        }
      ]
    },
    {
      "cell_type": "markdown",
      "source": [
        "### Visualise the learning process"
      ],
      "metadata": {
        "id": "J2UVmKqtA6e8"
      }
    },
    {
      "cell_type": "code",
      "source": [
        "episodes = range(len(profit1))  # Assuming both lists have the same length (number of episodes)\n",
        "\n",
        "plt.plot(episodes, profit1, label='Agent 1')\n",
        "\n",
        "plt.xlabel('Episode')\n",
        "plt.ylabel('Profit')\n",
        "plt.title('Equilibrium Prices')\n",
        "plt.legend()\n",
        "plt.grid(True)\n",
        "plt.show()"
      ],
      "metadata": {
        "colab": {
          "base_uri": "https://localhost:8080/",
          "height": 472
        },
        "id": "5dK-0M7mODlh",
        "outputId": "72fcff43-1d17-4023-f2fb-f57a0d61f268"
      },
      "execution_count": 11,
      "outputs": [
        {
          "output_type": "display_data",
          "data": {
            "text/plain": [
              "<Figure size 640x480 with 1 Axes>"
            ],
            "image/png": "[encoded data removed]"
          },
          "metadata": {}
        }
      ]
    },
    {
      "cell_type": "markdown",
      "source": [
        "### Play the agents against each other in a one-off repeated game"
      ],
      "metadata": {
        "id": "ldAePfUHA9d5"
      }
    },
    {
      "cell_type": "code",
      "source": [
        "def play_agents(agent1_model, agent2_model, max_iterations):\n",
        "\n",
        "    prices1, prices2, demand_agent1 = [], [], []\n",
        "    profit1, profit2 = 0, 0\n",
        "\n",
        "    # Start with price = marginal cost\n",
        "    price_agent1, price_agent2 = 57, 71\n",
        "\n",
        "    # Initial demands\n",
        "    demand1, demand2 = 200, 200\n",
        "\n",
        "    prices1.append(price_agent1)\n",
        "    prices2.append(price_agent2)\n",
        "    demand_agent1.append(demand1)  # Append initial demand\n",
        "\n",
        "    for _ in range(max_iterations):\n",
        "        # Construct the state tensor\n",
        "        state = torch.tensor([price_agent1, price_agent2, demand1, demand2], dtype=torch.float32)\n",
        "\n",
        "        # Get the Q-values for both agents from their models\n",
        "        q_values_agent1 = agent1_model(state)\n",
        "        q_values_agent2 = agent2_model(state)\n",
        "\n",
        "        # Choose action based on the learned policy\n",
        "        action_agent1 = torch.argmax(q_values_agent1).item()\n",
        "        action_agent2 = torch.argmax(q_values_agent2).item()\n",
        "\n",
        "        # Get the price from the action\n",
        "        price_agent1 = price_options[action_agent1]\n",
        "        price_agent2 = price_options[action_agent2]\n",
        "\n",
        "        joint_action = [price_agent1, price_agent2]\n",
        "        demands = [demand1, demand2]\n",
        "        prices_and_demands = joint_action + demands\n",
        "\n",
        "        # Keep track of history\n",
        "        prices1.append(price_agent1)\n",
        "        prices2.append(price_agent2)\n",
        "        #demand_agent1.append(demand1)  # Append demand history\n",
        "\n",
        "        # Record profit\n",
        "        p1, p2 = simulate_environment(prices_and_demands)\n",
        "        profit1 += p1\n",
        "        profit2 += p2\n",
        "\n",
        "        # Update the demands\n",
        "        demand1, demand2 = evolutionary_demand(state)\n",
        "        demand_agent1.append(int(demand1.item()))\n",
        "\n",
        "    return prices1, prices2, demand_agent1, profit1, profit2"
      ],
      "metadata": {
        "id": "AAOvFiuNrXgo"
      },
      "execution_count": 58,
      "outputs": []
    },
    {
      "cell_type": "code",
      "source": [
        "max_iterations = 24 # Random initialisation gives 20 repetitions"
      ],
      "metadata": {
        "id": "rWvLnoavuF84"
      },
      "execution_count": 59,
      "outputs": []
    },
    {
      "cell_type": "markdown",
      "source": [
        "### Outcome of the game"
      ],
      "metadata": {
        "id": "smGx3tlWBGMK"
      }
    },
    {
      "cell_type": "code",
      "source": [
        "# Play the agents against each other and observe the equilibrium prices\n",
        "agent1_prices, agent2_prices, demand_agent1, agent1_profit, agent2_profit = play_agents(trained_model_agent1, trained_model_agent2, max_iterations)"
      ],
      "metadata": {
        "id": "0NXmMk9njiZT"
      },
      "execution_count": 60,
      "outputs": []
    },
    {
      "cell_type": "code",
      "source": [
        "print(\"Agent 1 Prices: \", agent1_prices)\n",
        "print(\"Agent 1 Demand: \", demand_agent1)\n",
        "print(\"\\nAgent 2 Prices: \", agent2_prices)\n",
        "print(\"\\nAgent 1 Profit: \", int(agent1_profit.item()))\n",
        "print(\"Agent 2 Profit: \", int(agent2_profit.item()))"
      ],
      "metadata": {
        "colab": {
          "base_uri": "https://localhost:8080/"
        },
        "id": "_G747HKerXlI",
        "outputId": "f411f66c-b11d-4787-a7a6-f0f17e754c8c"
      },
      "execution_count": 61,
      "outputs": [
        {
          "output_type": "stream",
          "name": "stdout",
          "text": [
            "Agent 1 Prices:  [57, 100, 100, 100, 100, 100, 100, 100, 100, 100, 100, 100, 100, 100, 100, 100, 100, 100, 100, 100, 100, 100, 100, 100, 100]\n",
            "Agent 1 Demand:  [200, 207, 207, 207, 207, 207, 207, 207, 207, 207, 207, 207, 207, 207, 207, 207, 207, 207, 207, 207, 207, 207, 207, 207, 207]\n",
            "\n",
            "Agent 2 Prices:  [71, 100, 100, 100, 100, 100, 100, 100, 100, 100, 100, 100, 100, 100, 100, 100, 100, 100, 100, 100, 100, 100, 100, 100, 100]\n",
            "\n",
            "Agent 1 Profit:  213323\n",
            "Agent 2 Profit:  134531\n"
          ]
        }
      ]
    },
    {
      "cell_type": "markdown",
      "source": [
        "### A function to determine the next action given any combination of current and previous actions"
      ],
      "metadata": {
        "id": "cd5K0QIDAGrz"
      }
    },
    {
      "cell_type": "code",
      "source": [
        "def inspect_agent(price1, price2, last_price1, last_price2):\n",
        "  state_agent1 = torch.tensor([price1, price2, last_price1, last_price2], dtype=torch.float32)\n",
        "\n",
        "  # Get the Q-values for Agent 1 in state\n",
        "  q_values_agent1 = trained_model_agent1(state_agent1)\n",
        "\n",
        "  # Convert the Q-values tensor to a NumPy array for easier inspection\n",
        "  q_values_agent1 = q_values_agent1.detach().numpy()\n",
        "\n",
        "  print(\"Q-values for Agent 1 in state \", (price1, price2, last_price1, last_price2), \":\\n\\n\", q_values_agent1)\n",
        "\n",
        "  # Select action with highest Q-value\n",
        "  action = q_values_agent1.argmax()\n",
        "  print(\"\\nNext Action: \", price_options[action])"
      ],
      "metadata": {
        "id": "Ok_ArjzwmyQm"
      },
      "execution_count": null,
      "outputs": []
    },
    {
      "cell_type": "code",
      "source": [
        "inspect_agent(2, 1.95, 2, 1.95)"
      ],
      "metadata": {
        "colab": {
          "base_uri": "https://localhost:8080/"
        },
        "id": "HW-Jql6PnCvL",
        "outputId": "5610e48e-0e42-419b-9e15-6c4d6bb6fe25"
      },
      "execution_count": null,
      "outputs": [
        {
          "output_type": "stream",
          "name": "stdout",
          "text": [
            "Q-values for Agent 1 in state  (2, 1.95, 2, 1.95) :\n",
            "\n",
            " [-3262.3381  -3126.772   -3389.4426  -3449.1143  -3055.075   -3040.1018\n",
            " -3211.308   -3173.7136  -2654.6128  -3191.705   -3398.6553  -2493.319\n",
            " -2599.408   -2413.3027  -1237.329     212.89067  2154.6396   4575.7925\n",
            "  7045.3965   7607.3447   7578.561    7788.0044   7683.6646   8119.4634\n",
            "  8099.9175   8322.412    8261.493    8268.006    8215.499    8448.671\n",
            "  8429.8125   8402.891    8523.886    9034.32     8790.854    8681.731\n",
            "  8875.911    8608.458    8791.973    9299.866  ]\n",
            "\n",
            "Next Action:  2.0\n"
          ]
        }
      ]
    },
    {
      "cell_type": "code",
      "source": [
        "np.exp(-0.1)"
      ],
      "metadata": {
        "id": "Pc_F-hsIJHLK",
        "colab": {
          "base_uri": "https://localhost:8080/"
        },
        "outputId": "425e0132-99b5-41cf-ad55-fe716b58a0ab"
      },
      "execution_count": null,
      "outputs": [
        {
          "output_type": "execute_result",
          "data": {
            "text/plain": [
              "0.9048374180359595"
            ]
          },
          "metadata": {},
          "execution_count": 124
        }
      ]
    },
    {
      "cell_type": "code",
      "source": [],
      "metadata": {
        "id": "5cyN9pBKb8pr"
      },
      "execution_count": null,
      "outputs": []
    }
  ]
}