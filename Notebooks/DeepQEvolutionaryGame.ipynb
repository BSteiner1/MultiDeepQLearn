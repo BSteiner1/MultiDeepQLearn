{
  "nbformat": 4,
  "nbformat_minor": 0,
  "metadata": {
    "colab": {
      "provenance": [],
      "gpuType": "T4",
      "authorship_tag": "ABX9TyNU7p8BvlvYdo/TsEVPw4Qp",
      "include_colab_link": true
    },
    "kernelspec": {
      "name": "python3",
      "display_name": "Python 3"
    },
    "language_info": {
      "name": "python"
    },
    "accelerator": "GPU"
  },
  "cells": [
    {
      "cell_type": "markdown",
      "metadata": {
        "id": "view-in-github",
        "colab_type": "text"
      },
      "source": [
        "<a href=\"https://colab.research.google.com/github/BSteiner1/MultiDeepQLearn/blob/main/Notebooks/DeepQEvolutionaryGame.ipynb\" target=\"_parent\"><img src=\"https://colab.research.google.com/assets/colab-badge.svg\" alt=\"Open In Colab\"/></a>"
      ]
    },
    {
      "cell_type": "markdown",
      "source": [
        "### Import libraries"
      ],
      "metadata": {
        "id": "MNNeD_m6ATcw"
      }
    },
    {
      "cell_type": "code",
      "source": [
        "import torch\n",
        "import torch.nn as nn\n",
        "import torch.optim as optim\n",
        "import numpy as np\n",
        "import time\n",
        "import random\n",
        "import matplotlib.pyplot as plt"
      ],
      "metadata": {
        "id": "6-xD5Zm4M4v5"
      },
      "execution_count": 1,
      "outputs": []
    },
    {
      "cell_type": "markdown",
      "source": [
        "### Define some of the variables as given in the paper"
      ],
      "metadata": {
        "id": "Z8izVpQIAW2Y"
      }
    },
    {
      "cell_type": "code",
      "source": [
        "# Marginal costs\n",
        "c1, c2 = 57, 71\n",
        "# Epsilon-Greedy Strategy\n",
        "epsilon = 0.1"
      ],
      "metadata": {
        "id": "e-74GsbPSUTZ"
      },
      "execution_count": 2,
      "outputs": []
    },
    {
      "cell_type": "markdown",
      "source": [
        "### Demand Update Rule"
      ],
      "metadata": {
        "id": "M_3vY4VYAbI_"
      }
    },
    {
      "cell_type": "code",
      "source": [
        "# Function to calculate the logit demand for a given product\n",
        "def evolutionary_demand(state):\n",
        "\n",
        "  price1, price2, demand1, demand2 = state\n",
        "\n",
        "  # Update Rule\n",
        "  demand1 = demand1 + 0.5*(price2 - price1)\n",
        "  demand2 = demand2 + 0.5*(price1 - price2)\n",
        "\n",
        "  return demand1, demand2"
      ],
      "metadata": {
        "id": "AzTF_FmkNSDq"
      },
      "execution_count": 3,
      "outputs": []
    },
    {
      "cell_type": "markdown",
      "source": [
        "### Decaying Epsilon-Greedy Action Selection"
      ],
      "metadata": {
        "id": "UZ-IcIi_AgWb"
      }
    },
    {
      "cell_type": "code",
      "source": [
        "def epsilon_greedy_action_selection(net, state, epsilon, t):\n",
        "    #if np.random.rand() < epsilon:\n",
        "    if np.random.rand() < np.exp(-0.0001*t):\n",
        "        # Exploration\n",
        "        return random.choice([i for i in range(num_prices)])\n",
        "    else:\n",
        "        # Exploitation\n",
        "        with torch.no_grad():\n",
        "            q_values = net(state)\n",
        "            return q_values.argmax().item()"
      ],
      "metadata": {
        "id": "gYUqejHFbBqv"
      },
      "execution_count": 68,
      "outputs": []
    },
    {
      "cell_type": "markdown",
      "source": [
        "### Determine profits from current prices and demands"
      ],
      "metadata": {
        "id": "DcVi4KnOAjNE"
      }
    },
    {
      "cell_type": "code",
      "source": [
        "def simulate_environment(prices_and_demands):\n",
        "    price1, price2, demand1, demand2 = prices_and_demands\n",
        "\n",
        "    # Calculate the revenue and profit for each product\n",
        "    revenue1 = price1 * demand1\n",
        "    revenue2 = price2 * demand2\n",
        "\n",
        "    # Calculate profits\n",
        "    profit1 = revenue1 - demand1 * 57\n",
        "    profit2 = revenue2 - demand2 * 71\n",
        "\n",
        "    return [profit1, profit2]"
      ],
      "metadata": {
        "id": "pZApHq6BPPiw"
      },
      "execution_count": 57,
      "outputs": []
    },
    {
      "cell_type": "markdown",
      "source": [
        "### Discretise the action space"
      ],
      "metadata": {
        "id": "JBjxC0daArM2"
      }
    },
    {
      "cell_type": "code",
      "source": [
        "# Number of prices to choose from\n",
        "num_prices = 20\n",
        "price_options = [(50 + 5*i) for i in range(1, num_prices+1)]"
      ],
      "metadata": {
        "id": "kUia5rtV_EP_"
      },
      "execution_count": 58,
      "outputs": []
    },
    {
      "cell_type": "markdown",
      "source": [
        "### Define parameters in the learning process"
      ],
      "metadata": {
        "id": "35ewLM30Avut"
      }
    },
    {
      "cell_type": "code",
      "source": [
        "num_episodes = 30000\n",
        "learning_rate = 0.001\n",
        "discount_factor = 0.96\n",
        "epsilon = 0.1\n",
        "max_steps_per_episode = 25"
      ],
      "metadata": {
        "id": "sBuDWcNnPPsR"
      },
      "execution_count": 69,
      "outputs": []
    },
    {
      "cell_type": "markdown",
      "source": [
        "### Dimensions of the network"
      ],
      "metadata": {
        "id": "gecuQImtA0hl"
      }
    },
    {
      "cell_type": "code",
      "source": [
        "# Size of state (prices and demands)\n",
        "state_size = 4\n",
        "# Size of the hidden layer\n",
        "hidden_size = 128\n",
        "# Number of price options\n",
        "action_size = num_prices\n",
        "\n",
        "net_dimensions = [state_size, hidden_size, action_size]"
      ],
      "metadata": {
        "id": "gwqnMa6N6blK"
      },
      "execution_count": 70,
      "outputs": []
    },
    {
      "cell_type": "markdown",
      "source": [
        "### Training Loop"
      ],
      "metadata": {
        "id": "7Uu9wYffA3qH"
      }
    },
    {
      "cell_type": "code",
      "source": [
        "def train_q_learning(num_episodes, learning_rate, discount_factor, epsilon, max_steps_per_episode, net_dimensions):\n",
        "\n",
        "    # Assign network dimensions\n",
        "    state_size, hidden_size, action_size = net_dimensions\n",
        "\n",
        "    #Create the Q-value models for each agent\n",
        "    q_value_model_agent1 = nn.Sequential(\n",
        "        nn.Linear(state_size, hidden_size),\n",
        "        nn.ReLU(),\n",
        "        nn.Linear(hidden_size, action_size)\n",
        "    )\n",
        "    q_value_model_agent2 = nn.Sequential(\n",
        "        nn.Linear(state_size, hidden_size),\n",
        "        nn.ReLU(),\n",
        "        nn.Linear(hidden_size, action_size)\n",
        "    )\n",
        "\n",
        "    optimizer_agent1 = optim.Adam(q_value_model_agent1.parameters(), lr=learning_rate)\n",
        "    optimizer_agent2 = optim.Adam(q_value_model_agent2.parameters(), lr=learning_rate)\n",
        "    criterion = nn.MSELoss()\n",
        "\n",
        "    profit1, profit2 = [], []\n",
        "\n",
        "    start_time = time.time()\n",
        "\n",
        "    for episode in range(num_episodes):\n",
        "      if episode%1000 == 0:\n",
        "        print(\"Episode: \", episode)\n",
        "\n",
        "      episode_actions, episode_profit1, episode_profit2 = [], 0, 0\n",
        "\n",
        "      # Initialise with random prices for both businesses\n",
        "      demand1, demand2 = 200, 200\n",
        "\n",
        "      # Initialise the price at marginal cost\n",
        "      price1, price2 = 57, 71\n",
        "\n",
        "      # Initialise the state\n",
        "      state = torch.tensor([price1, price2, demand1, demand2], dtype=torch.float32)\n",
        "\n",
        "      # Update profit\n",
        "      episode_profit1 += simulate_environment(state)[0]\n",
        "      episode_profit2 += simulate_environment(state)[1]\n",
        "\n",
        "      for _ in range(max_steps_per_episode-1):\n",
        "\n",
        "        # Update demands\n",
        "        demand1, demand2 = evolutionary_demand(state)\n",
        "\n",
        "        # Update state\n",
        "        state = torch.tensor([price1, price2, demand1, demand2], dtype=torch.float32)\n",
        "\n",
        "        # Agent 1 chooses action based on the current state and epsilon-greedy strategy\n",
        "        action_agent1 = epsilon_greedy_action_selection(q_value_model_agent1, state, epsilon, episode)\n",
        "        #episode_actions.append(action_agent1)\n",
        "\n",
        "        # Agent 2 chooses action based on the current state and epsilon-greedy strategy\n",
        "        action_agent2 = epsilon_greedy_action_selection(q_value_model_agent2, state, epsilon, episode)\n",
        "\n",
        "        # Update prices\n",
        "        price1, price2 = price_options[action_agent1], price_options[action_agent2]\n",
        "\n",
        "        # Simulate the environment based on the joint action and calculate profit\n",
        "        rewards = simulate_environment(state)\n",
        "        episode_profit1 += rewards[0]\n",
        "        episode_profit2 += rewards[1]\n",
        "\n",
        "        # Calculate the Q-value target for the current state-action pair\n",
        "        with torch.no_grad():\n",
        "            q_value_target_agent1 = rewards[0] + discount_factor * torch.max(q_value_model_agent1(state)).clone().detach()\n",
        "            q_value_target_agent2 = rewards[1] + discount_factor * torch.max(q_value_model_agent2(state)).clone().detach()\n",
        "\n",
        "        # Calculate the Q-value prediction for the current state-action pair\n",
        "        q_value_prediction_agent1 = q_value_model_agent1(state)[action_agent1]\n",
        "        q_value_prediction_agent2 = q_value_model_agent2(state)[action_agent2]\n",
        "\n",
        "        # Compute the loss and perform backpropagation for each agent\n",
        "        optimizer_agent1.zero_grad()\n",
        "        loss_agent1 = criterion(q_value_prediction_agent1, q_value_target_agent1)\n",
        "        loss_agent1.backward()\n",
        "        optimizer_agent1.step()\n",
        "\n",
        "        optimizer_agent2.zero_grad()\n",
        "        loss_agent2 = criterion(q_value_prediction_agent2, q_value_target_agent2)\n",
        "        loss_agent2.backward()\n",
        "        optimizer_agent2.step()\n",
        "\n",
        "      profit1.append(episode_profit1)\n",
        "      profit2.append(episode_profit2)\n",
        "\n",
        "    end_time = time.time()\n",
        "    elapsed_time = end_time - start_time\n",
        "    time_per_episode = elapsed_time/num_episodes\n",
        "    print(\"Total Number of Episodes:\", num_episodes)\n",
        "    print(f\"Elapsed Time: {elapsed_time:.2f} seconds\")\n",
        "    print(f\"Average Time per Episode: {time_per_episode:.3f} seconds\")\n",
        "\n",
        "    return q_value_model_agent1, q_value_model_agent2, profit1, profit2"
      ],
      "metadata": {
        "id": "jAwSyKibek0n"
      },
      "execution_count": 71,
      "outputs": []
    },
    {
      "cell_type": "code",
      "source": [
        "trained_model_agent1, trained_model_agent2, profit1, profit2 = train_q_learning(num_episodes, learning_rate, discount_factor, epsilon, max_steps_per_episode, net_dimensions)"
      ],
      "metadata": {
        "colab": {
          "base_uri": "https://localhost:8080/"
        },
        "id": "SERaZyIfesdc",
        "outputId": "95afa71e-ed36-450e-f14a-e29530b755e6"
      },
      "execution_count": 72,
      "outputs": [
        {
          "output_type": "stream",
          "name": "stdout",
          "text": [
            "Episode:  0\n",
            "Episode:  1000\n",
            "Episode:  2000\n",
            "Episode:  3000\n",
            "Episode:  4000\n",
            "Episode:  5000\n",
            "Episode:  6000\n",
            "Episode:  7000\n",
            "Episode:  8000\n",
            "Episode:  9000\n",
            "Episode:  10000\n",
            "Episode:  11000\n",
            "Episode:  12000\n",
            "Episode:  13000\n",
            "Episode:  14000\n",
            "Episode:  15000\n",
            "Episode:  16000\n",
            "Episode:  17000\n",
            "Episode:  18000\n",
            "Episode:  19000\n",
            "Episode:  20000\n",
            "Episode:  21000\n",
            "Episode:  22000\n",
            "Episode:  23000\n",
            "Episode:  24000\n",
            "Episode:  25000\n",
            "Episode:  26000\n",
            "Episode:  27000\n",
            "Episode:  28000\n",
            "Episode:  29000\n",
            "Total Number of Episodes: 30000\n",
            "Elapsed Time: 1580.42 seconds\n",
            "Average Time per Episode: 0.053 seconds\n"
          ]
        }
      ]
    },
    {
      "cell_type": "markdown",
      "source": [
        "### Visualise the learning process"
      ],
      "metadata": {
        "id": "J2UVmKqtA6e8"
      }
    },
    {
      "cell_type": "code",
      "source": [
        "episodes = range(len(profit1))\n",
        "\n",
        "plt.plot(episodes, profit1, label='Agent 1')\n",
        "plt.plot(episodes, profit2, color='red', label='Agent 2')\n",
        "\n",
        "plt.xlabel('Episode')\n",
        "plt.ylabel('Profit')\n",
        "plt.title('Episode Profits')\n",
        "plt.grid(True)\n",
        "plt.show()"
      ],
      "metadata": {
        "colab": {
          "base_uri": "https://localhost:8080/",
          "height": 472
        },
        "id": "5dK-0M7mODlh",
        "outputId": "3ad82ad2-de6d-4c24-ac34-5319dfb15640"
      },
      "execution_count": 85,
      "outputs": [
        {
          "output_type": "display_data",
          "data": {
            "text/plain": [
              "<Figure size 640x480 with 1 Axes>"
            ],
            "image/png": "[encoded data removed]"
          },
          "metadata": {}
        }
      ]
    },
    {
      "cell_type": "markdown",
      "source": [
        "### Play the agents against each other in a one-off game"
      ],
      "metadata": {
        "id": "ldAePfUHA9d5"
      }
    },
    {
      "cell_type": "code",
      "source": [
        "def play_agents(agent1_model, agent2_model, max_iterations):\n",
        "\n",
        "    prices1, prices2, demand_agent1, demand_agent2 = [], [], [], []\n",
        "    profit1, profit2 = 0, 0\n",
        "\n",
        "    # Start with price = marginal cost\n",
        "    price_agent1, price_agent2 = 57, 71\n",
        "\n",
        "    # Initial demands\n",
        "    demand1, demand2 = 200, 200\n",
        "\n",
        "    # Append prices and demands to history\n",
        "    prices1.append(price_agent1)\n",
        "    prices2.append(price_agent2)\n",
        "    demand_agent1.append(demand1)\n",
        "    demand_agent2.append(demand2)\n",
        "\n",
        "    # Initial state\n",
        "    state = torch.tensor([price_agent1, price_agent2, demand1, demand2], dtype = torch.float32)\n",
        "\n",
        "    # Record profit\n",
        "    p1, p2 = simulate_environment(state)\n",
        "    profit1 += p1\n",
        "    profit2 += p2\n",
        "\n",
        "    for _ in range(max_iterations-1):\n",
        "\n",
        "        # Update and record demands\n",
        "        demand1, demand2 = evolutionary_demand(state)\n",
        "        demand_agent1.append(int(demand1.item()))\n",
        "        demand_agent2.append(int(demand2.item()))\n",
        "\n",
        "        # Update the demands in the state tensor\n",
        "        state = torch.tensor([price_agent1, price_agent2, demand1, demand2], dtype=torch.float32)\n",
        "\n",
        "        # Update Step\n",
        "        # Get the Q-values for both agents from their models\n",
        "        q_values_agent1 = agent1_model(state)\n",
        "        q_values_agent2 = agent2_model(state)\n",
        "\n",
        "        # Choose action based on the learned policy\n",
        "        action_agent1 = torch.argmax(q_values_agent1).item()\n",
        "        action_agent2 = torch.argmax(q_values_agent2).item()\n",
        "\n",
        "        # Get the price from the action\n",
        "        price_agent1 = price_options[action_agent1]\n",
        "        price_agent2 = price_options[action_agent2]\n",
        "\n",
        "        # Keep track of price history\n",
        "        prices1.append(price_agent1)\n",
        "        prices2.append(price_agent2)\n",
        "\n",
        "        # Update the prices in the state tensor\n",
        "        state = torch.tensor([price_agent1, price_agent2, demand1, demand2], dtype=torch.float32)\n",
        "\n",
        "        # Calculate and record profit\n",
        "        p1, p2 = simulate_environment(state)\n",
        "        profit1 += p1\n",
        "        profit2 += p2\n",
        "\n",
        "    return prices1, prices2, demand_agent1, demand_agent2, profit1, profit2"
      ],
      "metadata": {
        "id": "0qN9OYSgsa1h"
      },
      "execution_count": 74,
      "outputs": []
    },
    {
      "cell_type": "code",
      "source": [
        "# Repetitions in each game\n",
        "max_iterations = 25"
      ],
      "metadata": {
        "id": "rWvLnoavuF84"
      },
      "execution_count": 75,
      "outputs": []
    },
    {
      "cell_type": "markdown",
      "source": [
        "### Outcome of the game"
      ],
      "metadata": {
        "id": "smGx3tlWBGMK"
      }
    },
    {
      "cell_type": "code",
      "source": [
        "# Play the agents against each other and observe the equilibrium prices\n",
        "agent1_prices, agent2_prices, demand_agent1, demand_agent2, agent1_profit, agent2_profit = play_agents(trained_model_agent1, trained_model_agent2, max_iterations)"
      ],
      "metadata": {
        "id": "0NXmMk9njiZT"
      },
      "execution_count": 76,
      "outputs": []
    },
    {
      "cell_type": "code",
      "source": [
        "print(\"Agent 1 Prices: \", agent1_prices)\n",
        "print(\"Agent 1 Demand: \", demand_agent1)\n",
        "print(\"\\nAgent 2 Prices: \", agent2_prices)\n",
        "print(\"Agent 2 Demand: \", demand_agent2)\n",
        "print(\"\\nAgent 1 Profit: \", agent1_profit.item())\n",
        "print(\"Agent 2 Profit: \", agent2_profit.item())"
      ],
      "metadata": {
        "id": "_G747HKerXlI",
        "colab": {
          "base_uri": "https://localhost:8080/"
        },
        "outputId": "86bfefaf-6ee4-4cc1-f3df-fc7f0d51c22c"
      },
      "execution_count": 78,
      "outputs": [
        {
          "output_type": "stream",
          "name": "stdout",
          "text": [
            "Agent 1 Prices:  [57, 70, 70, 65, 105, 65, 130, 130, 80, 65, 105, 105, 65, 105, 65, 105, 105, 65, 105, 105, 65, 105, 65, 105, 105]\n",
            "Agent 1 Demand:  [200, 207, 247, 287, 329, 352, 394, 379, 359, 364, 377, 369, 362, 374, 367, 379, 372, 364, 377, 369, 362, 374, 367, 379, 372]\n",
            "\n",
            "Agent 2 Prices:  [71, 150, 150, 150, 150, 150, 100, 90, 90, 90, 90, 90, 90, 90, 90, 90, 90, 90, 90, 90, 90, 90, 90, 90, 90]\n",
            "Agent 2 Demand:  [200, 193, 153, 113, 70, 48, 5, 20, 40, 35, 23, 30, 38, 25, 33, 20, 28, 35, 23, 30, 38, 25, 33, 20, 28]\n",
            "\n",
            "Agent 1 Profit:  288856.5\n",
            "Agent 2 Profit:  55833.0\n"
          ]
        }
      ]
    },
    {
      "cell_type": "markdown",
      "source": [
        "### A function to inspect the next price Player 1 will set"
      ],
      "metadata": {
        "id": "HDqjy4x3pU_8"
      }
    },
    {
      "cell_type": "code",
      "source": [
        "def inspect_agent(price1, price2, demand1, demnd2):\n",
        "  state_agent1 = torch.tensor([price1, price2, demand1, demnd2], dtype=torch.float32)\n",
        "\n",
        "  # Get the Q-values for Agent 1 in state\n",
        "  q_values_agent1 = trained_model_agent1(state_agent1)\n",
        "\n",
        "  # Convert the Q-values tensor to a NumPy array for easier inspection\n",
        "  q_values_agent1 = q_values_agent1.detach().numpy()\n",
        "\n",
        "  print(\"Q-values for Agent 1 in state \", (price1, price2, demand1, demnd2), \":\\n\\n\", q_values_agent1)\n",
        "\n",
        "  # Select action with highest Q-value\n",
        "  action = q_values_agent1.argmax()\n",
        "  print(\"\\nNext Action: \", price_options[action])"
      ],
      "metadata": {
        "id": "5cyN9pBKb8pr"
      },
      "execution_count": 80,
      "outputs": []
    },
    {
      "cell_type": "code",
      "source": [
        "inspect_agent(105,90,377, 30)"
      ],
      "metadata": {
        "colab": {
          "base_uri": "https://localhost:8080/"
        },
        "id": "aAjrc1oVpeHD",
        "outputId": "881a4fa3-4798-4326-ae24-d3cc7a70085e"
      },
      "execution_count": 81,
      "outputs": [
        {
          "output_type": "stream",
          "name": "stdout",
          "text": [
            "Q-values for Agent 1 in state  (105, 90, 377, 30) :\n",
            "\n",
            " [430835.75 431841.88 432010.1  428973.7  431471.38 432057.44 431732.\n",
            " 429169.3  429778.97 430437.97 432238.84 431458.25 430779.97 431760.03\n",
            " 431657.56 431663.22 429162.56 430355.9  430228.75 430611.84]\n",
            "\n",
            "Next Action:  105\n"
          ]
        }
      ]
    },
    {
      "cell_type": "code",
      "source": [],
      "metadata": {
        "id": "nvCf3ijgqsie"
      },
      "execution_count": null,
      "outputs": []
    }
  ]
}