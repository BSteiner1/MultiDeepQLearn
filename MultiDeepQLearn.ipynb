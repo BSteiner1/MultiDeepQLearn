{
  "nbformat": 4,
  "nbformat_minor": 0,
  "metadata": {
    "colab": {
      "provenance": [],
      "gpuType": "T4",
      "authorship_tag": "ABX9TyMkefr+3ocaFZhdYvHZUGYI",
      "include_colab_link": true
    },
    "kernelspec": {
      "name": "python3",
      "display_name": "Python 3"
    },
    "language_info": {
      "name": "python"
    },
    "accelerator": "GPU"
  },
  "cells": [
    {
      "cell_type": "markdown",
      "metadata": {
        "id": "view-in-github",
        "colab_type": "text"
      },
      "source": [
        "<a href=\"https://colab.research.google.com/github/BSteiner1/MultiDeepQLearn/blob/main/MultiDeepQLearn.ipynb\" target=\"_parent\"><img src=\"https://colab.research.google.com/assets/colab-badge.svg\" alt=\"Open In Colab\"/></a>"
      ]
    },
    {
      "cell_type": "code",
      "source": [
        "import torch\n",
        "import torch.nn as nn\n",
        "import torch.optim as optim\n",
        "import numpy as np\n",
        "import time\n",
        "import random\n",
        "import matplotlib.pyplot as plt"
      ],
      "metadata": {
        "id": "6-xD5Zm4M4v5"
      },
      "execution_count": 1,
      "outputs": []
    },
    {
      "cell_type": "code",
      "source": [
        "# Define the demand function parameters\n",
        "# Vertical Differentiation\n",
        "a1 = 2\n",
        "a2 = 2\n",
        "# Outside good\n",
        "a0 = 0\n"
      ],
      "metadata": {
        "id": "QGbFPgYvM91i"
      },
      "execution_count": 2,
      "outputs": []
    },
    {
      "cell_type": "code",
      "source": [
        "# Marginal cost\n",
        "c = 1\n",
        "# Number of prices to choose from\n",
        "num_prices = 40\n",
        "price_options = [round(0.05*i, 2) for i in range(1, num_prices+1)]"
      ],
      "metadata": {
        "id": "e-74GsbPSUTZ"
      },
      "execution_count": 50,
      "outputs": []
    },
    {
      "cell_type": "code",
      "source": [
        "# Price sensitivity\n",
        "mu = 0.1"
      ],
      "metadata": {
        "id": "HMx3A0OONLFn"
      },
      "execution_count": 4,
      "outputs": []
    },
    {
      "cell_type": "code",
      "source": [
        "# Epsilon-Greedy Strategy\n",
        "epsilon = 0.1"
      ],
      "metadata": {
        "id": "VnCzi5pyQD_Z"
      },
      "execution_count": 5,
      "outputs": []
    },
    {
      "cell_type": "code",
      "source": [
        "# Function to calculate the logit demand for a given product\n",
        "def logit_demand(price, other_price):\n",
        "    q = np.exp((2 - price)/mu) / (np.exp((2 - other_price)/mu)) # + np.exp(0/mu))\n",
        "    return q"
      ],
      "metadata": {
        "id": "AzTF_FmkNSDq"
      },
      "execution_count": 6,
      "outputs": []
    },
    {
      "cell_type": "code",
      "source": [
        "# Build the network\n",
        "net = nn.Sequential(\n",
        "    nn.Linear(2, 64),\n",
        "    nn.ReLU(),\n",
        "    nn.Linear(64, 8)\n",
        ")"
      ],
      "metadata": {
        "id": "Rj7hruMzOg5-"
      },
      "execution_count": 7,
      "outputs": []
    },
    {
      "cell_type": "code",
      "source": [
        "def epsilon_greedy_action_selection(net, state, epsilon):\n",
        "    if np.random.rand() < epsilon:\n",
        "        #print(\"GREEDY\")\n",
        "        # Exploration\n",
        "        return random.choice([i for i in range(num_prices)])\n",
        "\n",
        "    else:\n",
        "        # Exploitation\n",
        "        #print(\"EXPLOIT\")\n",
        "        with torch.no_grad():\n",
        "            q_values = net(state)\n",
        "            #print(q_values.detach().numpy())\n",
        "            #print(q_values.argmax().item())\n",
        "            return q_values.argmax().item()"
      ],
      "metadata": {
        "id": "gYUqejHFbBqv"
      },
      "execution_count": 8,
      "outputs": []
    },
    {
      "cell_type": "code",
      "source": [
        "# Function to simulate the environment based on chosen actions and calculate rewards\n",
        "def simulate_environment(prices):\n",
        "    price1, price2 = prices[0], prices[1]\n",
        "\n",
        "    # Calculate the demand for each business\n",
        "    demand1 = logit_demand(price1, price2)\n",
        "    demand2 = logit_demand(price2, price1)\n",
        "\n",
        "    # Calculate the revenue and profit for each product\n",
        "    revenue1 = price1 * demand1\n",
        "    revenue2 = price2 * demand2\n",
        "\n",
        "    # Assuming the agents have 0 marginal cost\n",
        "    profit1 = revenue1 - demand1 * c\n",
        "    profit2 = revenue2 - demand2 * c\n",
        "\n",
        "    return [profit1, profit2]"
      ],
      "metadata": {
        "id": "pZApHq6BPPiw"
      },
      "execution_count": 9,
      "outputs": []
    },
    {
      "cell_type": "code",
      "source": [
        "num_episodes = 20000\n",
        "learning_rate = 0.0001\n",
        "discount_factor = 0.99\n",
        "epsilon = 0.1\n",
        "max_steps_per_episode = 20"
      ],
      "metadata": {
        "id": "sBuDWcNnPPsR"
      },
      "execution_count": 98,
      "outputs": []
    },
    {
      "cell_type": "code",
      "source": [
        "def train_q_learning(num_episodes, learning_rate, discount_factor, epsilon, max_steps_per_episode):\n",
        "\n",
        "    start_time = time.time()\n",
        "\n",
        "    state_size = 4  # Dimension of the state space (current prices of both businesses)\n",
        "    action_size = 40  # Number of possible prices for each business\n",
        "    hidden_size = 256 # Size of the hidden layer in the Q-value model\n",
        "\n",
        "    # Create the Q-value models for each agent\n",
        "    q_value_model_agent1 = nn.Sequential(\n",
        "        nn.Linear(state_size, hidden_size),\n",
        "        nn.ReLU(),\n",
        "        nn.Linear(hidden_size, action_size)\n",
        "    )\n",
        "    q_value_model_agent2 = nn.Sequential(\n",
        "        nn.Linear(state_size, hidden_size),\n",
        "        nn.ReLU(),\n",
        "        nn.Linear(hidden_size, action_size)\n",
        "    )\n",
        "\n",
        "    optimizer_agent1 = optim.Adam(q_value_model_agent1.parameters(), lr=learning_rate)\n",
        "    optimizer_agent2 = optim.Adam(q_value_model_agent2.parameters(), lr=learning_rate)\n",
        "    criterion = nn.MSELoss()\n",
        "\n",
        "    profit1 = []\n",
        "\n",
        "    for episode in range(num_episodes):\n",
        "      if episode%250 == 0:\n",
        "        print(episode)\n",
        "      # Initialize with random prices for both businesses\n",
        "      price_business1 = random.choice(price_options)\n",
        "      price_business2 = random.choice(price_options)\n",
        "\n",
        "      state = torch.tensor([price_business1, price_business2, 0, 0], dtype=torch.float32)\n",
        "\n",
        "      episode_actions = []\n",
        "      episode_profit = 0\n",
        "      step = 0\n",
        "      while step < max_steps_per_episode:\n",
        "        #print(\"Step\", step)\n",
        "        # Agent 1 chooses action based on the current state and epsilon-greedy strategy\n",
        "        action_agent1 = epsilon_greedy_action_selection(q_value_model_agent1, state, epsilon)\n",
        "        episode_actions.append(action_agent1)\n",
        "\n",
        "        # Agent 2 chooses action based on the current state and epsilon-greedy strategy\n",
        "        action_agent2 = epsilon_greedy_action_selection(q_value_model_agent2, state, epsilon)\n",
        "\n",
        "        # Combine the chosen actions to form the joint action (prices for both agents)\n",
        "        joint_action = [price_options[action_agent1], price_options[action_agent2]]\n",
        "        #print(joint_action)\n",
        "\n",
        "        # Simulate the environment based on the joint action and calculate rewards\n",
        "        rewards = simulate_environment(joint_action)\n",
        "\n",
        "        episode_profit += rewards[0]\n",
        "\n",
        "        # Create the next state tensor from the new prices\n",
        "        last_state = state.tolist()[:2]\n",
        "        next_state = torch.tensor(joint_action + last_state, dtype=torch.float32)\n",
        "        #print(next_state)\n",
        "\n",
        "        # Calculate the Q-value target for the current state-action pair\n",
        "        with torch.no_grad():\n",
        "            q_value_target_agent1 = torch.tensor(rewards[0], dtype=torch.float32) + discount_factor * torch.max(q_value_model_agent1(next_state))\n",
        "            q_value_target_agent2 = torch.tensor(rewards[1], dtype=torch.float32) + discount_factor * torch.max(q_value_model_agent2(next_state))\n",
        "\n",
        "        # Calculate the Q-value prediction for the current state-action pair\n",
        "        q_value_prediction_agent1 = q_value_model_agent1(state)[action_agent1]\n",
        "        q_value_prediction_agent2 = q_value_model_agent2(state)[action_agent2]\n",
        "\n",
        "        # Compute the loss and perform backpropagation for each agent\n",
        "        optimizer_agent1.zero_grad()\n",
        "        loss_agent1 = criterion(q_value_prediction_agent1, q_value_target_agent1)\n",
        "        loss_agent1.backward()\n",
        "        optimizer_agent1.step()\n",
        "\n",
        "        optimizer_agent2.zero_grad()\n",
        "        loss_agent2 = criterion(q_value_prediction_agent2, q_value_target_agent2)\n",
        "        loss_agent2.backward()\n",
        "        optimizer_agent2.step()\n",
        "\n",
        "        # Update the state for the next iteration\n",
        "        state = next_state\n",
        "        step += 1\n",
        "\n",
        "        #print(\"Q Agent 1:\", q_value_model_agent1(state).detach().numpy())\n",
        "\n",
        "      profit1.append(episode_profit)\n",
        "      #if episode%50 == 0:\n",
        "        #print(episode_actions)\n",
        "\n",
        "    end_time = time.time()\n",
        "    elapsed_time = end_time - start_time\n",
        "    time_per_episode = elapsed_time/num_episodes\n",
        "    print(\"Total Number of Episodes:\", num_episodes)\n",
        "    print(f\"Elapsed Time: {elapsed_time:.2f} seconds\")\n",
        "    print(f\"Average Time per Episode: {time_per_episode:.3f} seconds\")\n",
        "\n",
        "    #print(profit1)\n",
        "\n",
        "    return q_value_model_agent1, q_value_model_agent2, profit1"
      ],
      "metadata": {
        "id": "jAwSyKibek0n"
      },
      "execution_count": 99,
      "outputs": []
    },
    {
      "cell_type": "code",
      "source": [
        "trained_model_agent1, trained_model_agent2, profit1 = train_q_learning(num_episodes, learning_rate, discount_factor, epsilon, max_steps_per_episode)"
      ],
      "metadata": {
        "colab": {
          "base_uri": "https://localhost:8080/",
          "height": 380
        },
        "id": "SERaZyIfesdc",
        "outputId": "72c1bf81-107f-48a3-cc89-bf06613e0d7a"
      },
      "execution_count": 100,
      "outputs": [
        {
          "output_type": "stream",
          "name": "stdout",
          "text": [
            "0\n",
            "250\n",
            "500\n"
          ]
        },
        {
          "output_type": "error",
          "ename": "KeyboardInterrupt",
          "evalue": "ignored",
          "traceback": [
            "\u001b[0;31m---------------------------------------------------------------------------\u001b[0m",
            "\u001b[0;31mKeyboardInterrupt\u001b[0m                         Traceback (most recent call last)",
            "\u001b[0;32m<ipython-input-100-8010b2905096>\u001b[0m in \u001b[0;36m<cell line: 1>\u001b[0;34m()\u001b[0m\n\u001b[0;32m----> 1\u001b[0;31m \u001b[0mtrained_model_agent1\u001b[0m\u001b[0;34m,\u001b[0m \u001b[0mtrained_model_agent2\u001b[0m\u001b[0;34m,\u001b[0m \u001b[0mprofit1\u001b[0m \u001b[0;34m=\u001b[0m \u001b[0mtrain_q_learning\u001b[0m\u001b[0;34m(\u001b[0m\u001b[0mnum_episodes\u001b[0m\u001b[0;34m,\u001b[0m \u001b[0mlearning_rate\u001b[0m\u001b[0;34m,\u001b[0m \u001b[0mdiscount_factor\u001b[0m\u001b[0;34m,\u001b[0m \u001b[0mepsilon\u001b[0m\u001b[0;34m,\u001b[0m \u001b[0mmax_steps_per_episode\u001b[0m\u001b[0;34m)\u001b[0m\u001b[0;34m\u001b[0m\u001b[0;34m\u001b[0m\u001b[0m\n\u001b[0m",
            "\u001b[0;32m<ipython-input-99-9c9dc0ae71ff>\u001b[0m in \u001b[0;36mtrain_q_learning\u001b[0;34m(num_episodes, learning_rate, discount_factor, epsilon, max_steps_per_episode)\u001b[0m\n\u001b[1;32m     76\u001b[0m \u001b[0;34m\u001b[0m\u001b[0m\n\u001b[1;32m     77\u001b[0m         \u001b[0moptimizer_agent2\u001b[0m\u001b[0;34m.\u001b[0m\u001b[0mzero_grad\u001b[0m\u001b[0;34m(\u001b[0m\u001b[0;34m)\u001b[0m\u001b[0;34m\u001b[0m\u001b[0;34m\u001b[0m\u001b[0m\n\u001b[0;32m---> 78\u001b[0;31m         \u001b[0mloss_agent2\u001b[0m \u001b[0;34m=\u001b[0m \u001b[0mcriterion\u001b[0m\u001b[0;34m(\u001b[0m\u001b[0mq_value_prediction_agent2\u001b[0m\u001b[0;34m,\u001b[0m \u001b[0mq_value_target_agent2\u001b[0m\u001b[0;34m)\u001b[0m\u001b[0;34m\u001b[0m\u001b[0;34m\u001b[0m\u001b[0m\n\u001b[0m\u001b[1;32m     79\u001b[0m         \u001b[0mloss_agent2\u001b[0m\u001b[0;34m.\u001b[0m\u001b[0mbackward\u001b[0m\u001b[0;34m(\u001b[0m\u001b[0;34m)\u001b[0m\u001b[0;34m\u001b[0m\u001b[0;34m\u001b[0m\u001b[0m\n\u001b[1;32m     80\u001b[0m         \u001b[0moptimizer_agent2\u001b[0m\u001b[0;34m.\u001b[0m\u001b[0mstep\u001b[0m\u001b[0;34m(\u001b[0m\u001b[0;34m)\u001b[0m\u001b[0;34m\u001b[0m\u001b[0;34m\u001b[0m\u001b[0m\n",
            "\u001b[0;32m/usr/local/lib/python3.10/dist-packages/torch/nn/modules/module.py\u001b[0m in \u001b[0;36m_call_impl\u001b[0;34m(self, *args, **kwargs)\u001b[0m\n\u001b[1;32m   1499\u001b[0m                 \u001b[0;32mor\u001b[0m \u001b[0m_global_backward_pre_hooks\u001b[0m \u001b[0;32mor\u001b[0m \u001b[0m_global_backward_hooks\u001b[0m\u001b[0;34m\u001b[0m\u001b[0;34m\u001b[0m\u001b[0m\n\u001b[1;32m   1500\u001b[0m                 or _global_forward_hooks or _global_forward_pre_hooks):\n\u001b[0;32m-> 1501\u001b[0;31m             \u001b[0;32mreturn\u001b[0m \u001b[0mforward_call\u001b[0m\u001b[0;34m(\u001b[0m\u001b[0;34m*\u001b[0m\u001b[0margs\u001b[0m\u001b[0;34m,\u001b[0m \u001b[0;34m**\u001b[0m\u001b[0mkwargs\u001b[0m\u001b[0;34m)\u001b[0m\u001b[0;34m\u001b[0m\u001b[0;34m\u001b[0m\u001b[0m\n\u001b[0m\u001b[1;32m   1502\u001b[0m         \u001b[0;31m# Do not call functions when jit is used\u001b[0m\u001b[0;34m\u001b[0m\u001b[0;34m\u001b[0m\u001b[0m\n\u001b[1;32m   1503\u001b[0m         \u001b[0mfull_backward_hooks\u001b[0m\u001b[0;34m,\u001b[0m \u001b[0mnon_full_backward_hooks\u001b[0m \u001b[0;34m=\u001b[0m \u001b[0;34m[\u001b[0m\u001b[0;34m]\u001b[0m\u001b[0;34m,\u001b[0m \u001b[0;34m[\u001b[0m\u001b[0;34m]\u001b[0m\u001b[0;34m\u001b[0m\u001b[0;34m\u001b[0m\u001b[0m\n",
            "\u001b[0;32m/usr/local/lib/python3.10/dist-packages/torch/nn/modules/loss.py\u001b[0m in \u001b[0;36mforward\u001b[0;34m(self, input, target)\u001b[0m\n\u001b[1;32m    534\u001b[0m \u001b[0;34m\u001b[0m\u001b[0m\n\u001b[1;32m    535\u001b[0m     \u001b[0;32mdef\u001b[0m \u001b[0mforward\u001b[0m\u001b[0;34m(\u001b[0m\u001b[0mself\u001b[0m\u001b[0;34m,\u001b[0m \u001b[0minput\u001b[0m\u001b[0;34m:\u001b[0m \u001b[0mTensor\u001b[0m\u001b[0;34m,\u001b[0m \u001b[0mtarget\u001b[0m\u001b[0;34m:\u001b[0m \u001b[0mTensor\u001b[0m\u001b[0;34m)\u001b[0m \u001b[0;34m->\u001b[0m \u001b[0mTensor\u001b[0m\u001b[0;34m:\u001b[0m\u001b[0;34m\u001b[0m\u001b[0;34m\u001b[0m\u001b[0m\n\u001b[0;32m--> 536\u001b[0;31m         \u001b[0;32mreturn\u001b[0m \u001b[0mF\u001b[0m\u001b[0;34m.\u001b[0m\u001b[0mmse_loss\u001b[0m\u001b[0;34m(\u001b[0m\u001b[0minput\u001b[0m\u001b[0;34m,\u001b[0m \u001b[0mtarget\u001b[0m\u001b[0;34m,\u001b[0m \u001b[0mreduction\u001b[0m\u001b[0;34m=\u001b[0m\u001b[0mself\u001b[0m\u001b[0;34m.\u001b[0m\u001b[0mreduction\u001b[0m\u001b[0;34m)\u001b[0m\u001b[0;34m\u001b[0m\u001b[0;34m\u001b[0m\u001b[0m\n\u001b[0m\u001b[1;32m    537\u001b[0m \u001b[0;34m\u001b[0m\u001b[0m\n\u001b[1;32m    538\u001b[0m \u001b[0;34m\u001b[0m\u001b[0m\n",
            "\u001b[0;32m/usr/local/lib/python3.10/dist-packages/torch/nn/functional.py\u001b[0m in \u001b[0;36mmse_loss\u001b[0;34m(input, target, size_average, reduce, reduction)\u001b[0m\n\u001b[1;32m   3293\u001b[0m \u001b[0;34m\u001b[0m\u001b[0m\n\u001b[1;32m   3294\u001b[0m     \u001b[0mexpanded_input\u001b[0m\u001b[0;34m,\u001b[0m \u001b[0mexpanded_target\u001b[0m \u001b[0;34m=\u001b[0m \u001b[0mtorch\u001b[0m\u001b[0;34m.\u001b[0m\u001b[0mbroadcast_tensors\u001b[0m\u001b[0;34m(\u001b[0m\u001b[0minput\u001b[0m\u001b[0;34m,\u001b[0m \u001b[0mtarget\u001b[0m\u001b[0;34m)\u001b[0m\u001b[0;34m\u001b[0m\u001b[0;34m\u001b[0m\u001b[0m\n\u001b[0;32m-> 3295\u001b[0;31m     \u001b[0;32mreturn\u001b[0m \u001b[0mtorch\u001b[0m\u001b[0;34m.\u001b[0m\u001b[0m_C\u001b[0m\u001b[0;34m.\u001b[0m\u001b[0m_nn\u001b[0m\u001b[0;34m.\u001b[0m\u001b[0mmse_loss\u001b[0m\u001b[0;34m(\u001b[0m\u001b[0mexpanded_input\u001b[0m\u001b[0;34m,\u001b[0m \u001b[0mexpanded_target\u001b[0m\u001b[0;34m,\u001b[0m \u001b[0m_Reduction\u001b[0m\u001b[0;34m.\u001b[0m\u001b[0mget_enum\u001b[0m\u001b[0;34m(\u001b[0m\u001b[0mreduction\u001b[0m\u001b[0;34m)\u001b[0m\u001b[0;34m)\u001b[0m\u001b[0;34m\u001b[0m\u001b[0;34m\u001b[0m\u001b[0m\n\u001b[0m\u001b[1;32m   3296\u001b[0m \u001b[0;34m\u001b[0m\u001b[0m\n\u001b[1;32m   3297\u001b[0m \u001b[0;34m\u001b[0m\u001b[0m\n",
            "\u001b[0;31mKeyboardInterrupt\u001b[0m: "
          ]
        }
      ]
    },
    {
      "cell_type": "code",
      "source": [
        "episodes = range(len(profit1))  # Assuming both lists have the same length (number of episodes)\n",
        "\n",
        "plt.plot(episodes, profit1, label='Agent 1')\n",
        "\n",
        "plt.xlabel('Episode')\n",
        "plt.ylabel('Profit')\n",
        "plt.title('Equilibrium Prices')\n",
        "plt.legend()\n",
        "plt.grid(True)\n",
        "plt.show()"
      ],
      "metadata": {
        "colab": {
          "base_uri": "https://localhost:8080/",
          "height": 472
        },
        "id": "5dK-0M7mODlh",
        "outputId": "1c0a6a0c-1cfe-4e9e-c7c3-f949000035cb"
      },
      "execution_count": 83,
      "outputs": [
        {
          "output_type": "display_data",
          "data": {
            "text/plain": [
              "<Figure size 640x480 with 1 Axes>"
            ],
            "image/png": "[encoded data removed]"
          },
          "metadata": {}
        }
      ]
    },
    {
      "cell_type": "code",
      "source": [
        "profit1[-120:-100]"
      ],
      "metadata": {
        "colab": {
          "base_uri": "https://localhost:8080/"
        },
        "id": "E4aglRZHQPLp",
        "outputId": "f780622e-4d91-4d3d-9010-5594192d75fc"
      },
      "execution_count": 84,
      "outputs": [
        {
          "output_type": "execute_result",
          "data": {
            "text/plain": [
              "[-438.89320060455617,\n",
              " 359.96647974981596,\n",
              " 19.311250568776828,\n",
              " -5120067.790413812,\n",
              " 415.0506118094426,\n",
              " -1685210.8721405186,\n",
              " 157.54839680378865,\n",
              " 149.98211305303775,\n",
              " -54144.40452210419,\n",
              " 431.45668641090316,\n",
              " -546914.579641243,\n",
              " 307.02617297044986,\n",
              " 423.18537276708565,\n",
              " -339455.7597439654,\n",
              " -5129.965798729565,\n",
              " -5119896.0225467,\n",
              " -8062482.230511018,\n",
              " 157.29901649183282,\n",
              " 158.53766004136466,\n",
              " 126.75375155438955]"
            ]
          },
          "metadata": {},
          "execution_count": 84
        }
      ]
    },
    {
      "cell_type": "code",
      "source": [
        "def play_agents(agent1_model, agent2_model, max_iterations):\n",
        "\n",
        "    prices1 = []\n",
        "    prices2 = []\n",
        "    profit1 = 0\n",
        "    profit2 = 0\n",
        "\n",
        "    # Start with random prices for both businesses\n",
        "    price_agent1 = random.choice(price_options)\n",
        "    price_agent2 = random.choice(price_options)\n",
        "\n",
        "    start_action = [price_agent1, price_agent2]\n",
        "\n",
        "    prices1.append(price_agent1)\n",
        "    prices2.append(price_agent2)\n",
        "\n",
        "    p1 = simulate_environment(start_action)[0]\n",
        "    p2 = simulate_environment(start_action)[1]\n",
        "\n",
        "    profit1 += p1\n",
        "    profit2 += p2\n",
        "\n",
        "    state = torch.tensor([price_agent1, price_agent2, 0, 0], dtype=torch.float32)\n",
        "\n",
        "    for _ in range(max_iterations):\n",
        "        # Get the Q-values for both agents from their models\n",
        "        q_values_agent1 = agent1_model(state)\n",
        "        q_values_agent2 = agent2_model(state)\n",
        "\n",
        "        # Choose actions (prices) based on the learned policy (no epsilon-greedy exploration)\n",
        "        action_agent1 = torch.argmax(q_values_agent1).item()\n",
        "        action_agent2 = torch.argmax(q_values_agent2).item()\n",
        "\n",
        "        # Update the prices based on the chosen actions\n",
        "        price_agent1 = price_options[action_agent1]\n",
        "        price_agent2 = price_options[action_agent2]\n",
        "\n",
        "        prices1.append(price_agent1)\n",
        "        prices2.append(price_agent2)\n",
        "\n",
        "        joint_action = [price_agent1, price_agent2]\n",
        "\n",
        "        p1 = simulate_environment(joint_action)[0]\n",
        "        p2 = simulate_environment(joint_action)[1]\n",
        "\n",
        "        profit1 += p1\n",
        "        profit2 += p2\n",
        "\n",
        "        last_state = state.tolist()[:2]\n",
        "        state = torch.tensor(joint_action + last_state, dtype=torch.float32)\n",
        "\n",
        "    return prices1, prices2, profit1, profit2"
      ],
      "metadata": {
        "id": "AAOvFiuNrXgo"
      },
      "execution_count": 85,
      "outputs": []
    },
    {
      "cell_type": "code",
      "source": [
        "max_iterations = 19"
      ],
      "metadata": {
        "id": "rWvLnoavuF84"
      },
      "execution_count": 86,
      "outputs": []
    },
    {
      "cell_type": "code",
      "source": [
        "# Play the agents against each other and observe the equilibrium prices\n",
        "agent1_prices, agent2_prices, agent1_profit, agent2_profit = play_agents(trained_model_agent1, trained_model_agent2, max_iterations)\n",
        "\n",
        "print(\"Agent 1 Prices: \", agent1_prices)\n",
        "print(\"Agent 2 Prices: \", agent2_prices)\n",
        "print(\"Agent 1 Profit: \", agent1_profit)\n",
        "print(\"Agent 2 Profit: \", agent2_profit)"
      ],
      "metadata": {
        "colab": {
          "base_uri": "https://localhost:8080/"
        },
        "id": "_G747HKerXlI",
        "outputId": "c0ba0bdf-ce37-4cae-ad05-337b26788a7c"
      },
      "execution_count": 97,
      "outputs": [
        {
          "output_type": "stream",
          "name": "stdout",
          "text": [
            "Agent 1 Prices:  [0.8, 1.25, 1.25, 1.25, 1.25, 1.25, 1.25, 1.25, 1.25, 1.25, 1.25, 1.25, 1.25, 1.25, 1.25, 1.25, 1.25, 1.25, 1.25, 1.25]\n",
            "Agent 2 Prices:  [1.55, 1.6, 1.6, 1.6, 1.6, 1.6, 1.6, 1.6, 1.6, 1.6, 1.6, 1.6, 1.6, 1.6, 1.6, 1.6, 1.6, 1.6, 1.6, 1.6]\n",
            "Agent 1 Profit:  -204.31008608742349\n",
            "Agent 2 Profit:  0.344554367418012\n"
          ]
        }
      ]
    },
    {
      "cell_type": "code",
      "source": [],
      "metadata": {
        "id": "j9-6785mRduO"
      },
      "execution_count": null,
      "outputs": []
    },
    {
      "cell_type": "code",
      "source": [
        "def inspectAgent(price1, price2, last_price1, last_price2):\n",
        "  state_agent1 = torch.tensor([price1, price2, last_price1, last_price2], dtype=torch.float32)\n",
        "\n",
        "  # Get the Q-values for Agent 1 in state [5, 10] from the trained model\n",
        "  q_values_agent1 = trained_model_agent1(state_agent1)\n",
        "\n",
        "  # Convert the Q-values tensor to a NumPy array for easier inspection\n",
        "  q_values_agent1 = q_values_agent1.detach().numpy()\n",
        "\n",
        "  print(\"Q-values for Agent 1 in state \", (price1, price2), \":\", q_values_agent1)"
      ],
      "metadata": {
        "id": "Ok_ArjzwmyQm"
      },
      "execution_count": null,
      "outputs": []
    },
    {
      "cell_type": "code",
      "source": [
        "inspectAgent(1.6, 1.3, 1.6, 1.3)"
      ],
      "metadata": {
        "colab": {
          "base_uri": "https://localhost:8080/"
        },
        "id": "HW-Jql6PnCvL",
        "outputId": "7863d0d6-3f77-4d59-b1b0-6d2adc8f924e"
      },
      "execution_count": null,
      "outputs": [
        {
          "output_type": "stream",
          "name": "stdout",
          "text": [
            "Q-values for Agent 1 in state  (1.6, 1.3) : [-27594.426  -12896.607    6617.5493  22082.31    35334.99    49408.57\n",
            "  57295.28    68394.664   67773.35    70429.73    69740.61    70134.48\n",
            "  72837.79    73789.305   69947.24   156796.52    72037.164   71961.98\n",
            "  69840.1     71406.266 ]\n"
          ]
        }
      ]
    },
    {
      "cell_type": "code",
      "source": [],
      "metadata": {
        "id": "dijOKau8i-Yv"
      },
      "execution_count": null,
      "outputs": []
    }
  ]
}